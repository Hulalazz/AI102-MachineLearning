{
 "cells": [
  {
   "cell_type": "markdown",
   "metadata": {},
   "source": [
    "# Naive Bayes Classifier \n",
    "Naive bayes is an extremely powerful algorithm\n",
    "\n",
    "![](img/naivebayes-01.jpg)"
   ]
  },
  {
   "cell_type": "markdown",
   "metadata": {},
   "source": [
    "# \n",
    "![](img/venn-diagram-01.jpg)"
   ]
  },
  {
   "cell_type": "markdown",
   "metadata": {},
   "source": [
    "# \n",
    "![](img/naivebayes-02-01.jpg)"
   ]
  },
  {
   "cell_type": "markdown",
   "metadata": {},
   "source": [
    "Hi\n",
    "$$ P(\\mu_c,\\sigma_c|X) =  \\underset{\\mu^*,\\sigma^*}{argmax} \\left\\lbrace P_{\\mu^*,\\sigma^*}(x_1).P_{\\mu^*,\\sigma^*}(x_2) \\cdots.P_{\\mu^*,\\sigma^*}(x_n) \\right\\rbrace $$\n",
    "Once we fit the data for class, we can now estimate the posterior by \n",
    "$$P(x_{new}|\\mu_c,\\sigma_c) = g_{\\mu_c,\\sigma_c}(x_{new}) = \\cfrac{1}{\\sqrt{2\\pi\\sigma_c^2}}e^{-\\cfrac{(x-\\mu_c)^2}{2\\sigma_c^2}}$$"
   ]
  },
  {
   "cell_type": "code",
   "execution_count": null,
   "metadata": {},
   "outputs": [],
   "source": []
  }
 ],
 "metadata": {
  "kernelspec": {
   "display_name": "Python 3",
   "language": "python",
   "name": "python3"
  },
  "language_info": {
   "codemirror_mode": {
    "name": "ipython",
    "version": 3
   },
   "file_extension": ".py",
   "mimetype": "text/x-python",
   "name": "python",
   "nbconvert_exporter": "python",
   "pygments_lexer": "ipython3",
   "version": "3.6.4"
  }
 },
 "nbformat": 4,
 "nbformat_minor": 2
}
